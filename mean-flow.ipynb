{
 "cells": [
  {
   "cell_type": "markdown",
   "id": "ca9cf1fb",
   "metadata": {},
   "source": [
    "# Mean Flow"
   ]
  },
  {
   "cell_type": "code",
   "execution_count": 14,
   "id": "e6c1c082",
   "metadata": {},
   "outputs": [],
   "source": [
    "import torch\n",
    "from torch import nn, Tensor\n",
    "import matplotlib.pyplot as plt\n",
    "from sklearn.datasets import make_moons"
   ]
  },
  {
   "cell_type": "code",
   "execution_count": 15,
   "id": "20e4207d",
   "metadata": {},
   "outputs": [],
   "source": [
    "class MeanFlow(nn.Module):\n",
    "    def __init__(self, input_dim: int, hidden_dim: int):\n",
    "        super(MeanFlow, self).__init__()\n",
    "        self.net = nn.Sequential(\n",
    "            nn.Linear(input_dim + 2, hidden_dim),\n",
    "            nn.ReLU(),\n",
    "            nn.Linear(hidden_dim, hidden_dim),\n",
    "            nn.ReLU(),\n",
    "            nn.Linear(hidden_dim, hidden_dim),\n",
    "            nn.ReLU(),\n",
    "            nn.Linear(hidden_dim, input_dim)\n",
    "        )\n",
    "    \n",
    "    # predict velocity field at time t for input x_t\n",
    "    def forward(self, x_t: Tensor, r: Tensor, t: Tensor) -> Tensor:\n",
    "        # concatenate time with input: (B, 1) and (B, D) -> (B, D+1)\n",
    "        return self.net(torch.cat([r, t, x_t], dim=-1))\n",
    "    \n",
    "\n",
    "def sampler_r_t(n_samples: int) -> Tensor:\n",
    "    # sample r and t such that 0 <= r < t <= 1\n",
    "    # r is uniformly sampled from [0, 1]\n",
    "    # t is uniformly sampled from [r, 1]\n",
    "    r = torch.rand(n_samples, 1)\n",
    "    t = r + torch.rand(n_samples, 1) * (1 - r)\n",
    "    # \n",
    "    return r, t"
   ]
  },
  {
   "cell_type": "code",
   "execution_count": 22,
   "id": "1b7ea347",
   "metadata": {},
   "outputs": [
    {
     "name": "stdout",
     "output_type": "stream",
     "text": [
      "Epoch 0, Loss: 1.741524577140808\n",
      "Epoch 100, Loss: 1.3383539915084839\n",
      "Epoch 200, Loss: 0.9397438764572144\n",
      "Epoch 300, Loss: 0.7505947351455688\n",
      "Epoch 400, Loss: 0.7239959239959717\n",
      "Epoch 500, Loss: 0.7227413058280945\n",
      "Epoch 600, Loss: 0.7206918001174927\n",
      "Epoch 700, Loss: 0.7277698516845703\n",
      "Epoch 800, Loss: 0.7071666717529297\n",
      "Epoch 900, Loss: 0.6843053102493286\n",
      "Epoch 1000, Loss: 0.6691187024116516\n",
      "Epoch 1100, Loss: 0.7157244682312012\n",
      "Epoch 1200, Loss: 0.7219206690788269\n",
      "Epoch 1300, Loss: 0.696824312210083\n",
      "Epoch 1400, Loss: 0.7425177693367004\n",
      "Epoch 1500, Loss: 0.8254834413528442\n",
      "Epoch 1600, Loss: 0.779461145401001\n",
      "Epoch 1700, Loss: 0.6948366761207581\n",
      "Epoch 1800, Loss: 0.7215007543563843\n",
      "Epoch 1900, Loss: 0.6648907661437988\n",
      "Epoch 2000, Loss: 0.7903745174407959\n",
      "Epoch 2100, Loss: 0.7044671177864075\n",
      "Epoch 2200, Loss: 0.7236642241477966\n",
      "Epoch 2300, Loss: 0.6980905532836914\n",
      "Epoch 2400, Loss: 0.7034358382225037\n",
      "Epoch 2500, Loss: 0.768515944480896\n",
      "Epoch 2600, Loss: 0.7473151683807373\n",
      "Epoch 2700, Loss: 0.7417562007904053\n",
      "Epoch 2800, Loss: 0.7523903846740723\n",
      "Epoch 2900, Loss: 0.7281159162521362\n",
      "Epoch 3000, Loss: 0.6960163712501526\n",
      "Epoch 3100, Loss: 0.7581332921981812\n",
      "Epoch 3200, Loss: 0.7345775961875916\n",
      "Epoch 3300, Loss: 0.7899594306945801\n",
      "Epoch 3400, Loss: 0.6894842386245728\n",
      "Epoch 3500, Loss: 0.8271289467811584\n",
      "Epoch 3600, Loss: 0.8396877646446228\n",
      "Epoch 3700, Loss: 0.6819484829902649\n",
      "Epoch 3800, Loss: 0.7441372275352478\n",
      "Epoch 3900, Loss: 0.7596198916435242\n",
      "Epoch 4000, Loss: 0.6790633797645569\n",
      "Epoch 4100, Loss: 0.8009349703788757\n",
      "Epoch 4200, Loss: 0.7332783341407776\n",
      "Epoch 4300, Loss: 0.7815939784049988\n",
      "Epoch 4400, Loss: 0.7239729166030884\n",
      "Epoch 4500, Loss: 0.7307813167572021\n",
      "Epoch 4600, Loss: 0.7416457533836365\n",
      "Epoch 4700, Loss: 0.6510507464408875\n",
      "Epoch 4800, Loss: 0.7461178302764893\n",
      "Epoch 4900, Loss: 0.7708805799484253\n",
      "Epoch 5000, Loss: 0.7485395669937134\n",
      "Epoch 5100, Loss: 0.8219475150108337\n",
      "Epoch 5200, Loss: 0.716972827911377\n",
      "Epoch 5300, Loss: 0.7452489137649536\n",
      "Epoch 5400, Loss: 0.7880755662918091\n",
      "Epoch 5500, Loss: 0.7153676748275757\n",
      "Epoch 5600, Loss: 0.7317937016487122\n",
      "Epoch 5700, Loss: 0.6661446690559387\n",
      "Epoch 5800, Loss: 0.7549700736999512\n",
      "Epoch 5900, Loss: 0.8067858219146729\n",
      "Epoch 6000, Loss: 0.7601973414421082\n",
      "Epoch 6100, Loss: 0.6717410683631897\n",
      "Epoch 6200, Loss: 0.7433892488479614\n",
      "Epoch 6300, Loss: 0.8024636507034302\n",
      "Epoch 6400, Loss: 0.7837265729904175\n",
      "Epoch 6500, Loss: 0.7617221474647522\n",
      "Epoch 6600, Loss: 0.7573562264442444\n",
      "Epoch 6700, Loss: 0.7250100374221802\n",
      "Epoch 6800, Loss: 0.6870213150978088\n",
      "Epoch 6900, Loss: 0.8670253753662109\n",
      "Epoch 7000, Loss: 0.8190442323684692\n",
      "Epoch 7100, Loss: 0.8280001878738403\n",
      "Epoch 7200, Loss: 0.7667038440704346\n",
      "Epoch 7300, Loss: 0.7894852757453918\n",
      "Epoch 7400, Loss: 0.7468991279602051\n",
      "Epoch 7500, Loss: 0.7344005107879639\n",
      "Epoch 7600, Loss: 0.7022624611854553\n",
      "Epoch 7700, Loss: 0.8223136067390442\n",
      "Epoch 7800, Loss: 0.8165557384490967\n",
      "Epoch 7900, Loss: 0.7270103096961975\n",
      "Epoch 8000, Loss: 0.7461586594581604\n",
      "Epoch 8100, Loss: 0.7026824355125427\n",
      "Epoch 8200, Loss: 0.7293441295623779\n",
      "Epoch 8300, Loss: 0.7527366876602173\n",
      "Epoch 8400, Loss: 0.8278912901878357\n",
      "Epoch 8500, Loss: 0.7606796622276306\n",
      "Epoch 8600, Loss: 0.8235386610031128\n",
      "Epoch 8700, Loss: 0.7303707003593445\n",
      "Epoch 8800, Loss: 0.7123830914497375\n",
      "Epoch 8900, Loss: 0.7405702471733093\n",
      "Epoch 9000, Loss: 0.7227873802185059\n",
      "Epoch 9100, Loss: 0.7302049994468689\n",
      "Epoch 9200, Loss: 0.7473317980766296\n",
      "Epoch 9300, Loss: 0.7108098864555359\n",
      "Epoch 9400, Loss: 0.7574957013130188\n",
      "Epoch 9500, Loss: 0.7922369241714478\n",
      "Epoch 9600, Loss: 0.7207105159759521\n",
      "Epoch 9700, Loss: 0.7410937547683716\n",
      "Epoch 9800, Loss: 0.7606034278869629\n",
      "Epoch 9900, Loss: 0.7382165789604187\n"
     ]
    }
   ],
   "source": [
    "# training \n",
    "meanflow = MeanFlow(input_dim=2, hidden_dim=64)\n",
    "optimizer = torch.optim.Adam(meanflow.parameters(), lr=1e-4)\n",
    "loss_fn = nn.MSELoss()\n",
    "\n",
    "epochs = 10000\n",
    "for epoch in range(epochs):\n",
    "    \n",
    "    # generate data\n",
    "    x = Tensor(make_moons(n_samples=512, noise=0.05)[0])\n",
    "    \n",
    "    # sample r and t\n",
    "    r, t = sampler_r_t(x.shape[0])\n",
    "    \n",
    "    # introduce noise\n",
    "    e = torch.randn_like(x) \n",
    "\n",
    "    # interpolate\n",
    "    z = (1 - t) * x + t * e\n",
    "    v = e - x\n",
    "\n",
    "    u, dudt = torch.func.jvp(meanflow, (z, r, t), (v, torch.zeros_like(r), torch.ones_like(t)))\n",
    "\n",
    "    # target velocity field at time t\n",
    "    u_tgt = v - (t - r) * dudt\n",
    "    \n",
    "    # backpropagation\n",
    "    optimizer.zero_grad()\n",
    "    loss = loss_fn(u, u_tgt.detach()) # stop gradient for u_tgt\n",
    "    if epoch % 100 == 0:\n",
    "        print(f'Epoch {epoch}, Loss: {loss.item()}')\n",
    "    loss.backward()\n",
    "    optimizer.step() "
   ]
  },
  {
   "cell_type": "code",
   "execution_count": null,
   "id": "7f7921c9",
   "metadata": {},
   "outputs": [],
   "source": [
    "# Sampling after training\n",
    "num_points = 512\n",
    "e = torch.randn(num_points, 2)  # initial points'\n",
    "xg = e - meanflow(x_t = e, r = torch.zeros(num_points, 1), t = torch.ones(num_points, 1))\n"
   ]
  },
  {
   "cell_type": "code",
   "execution_count": 24,
   "id": "57f51c32",
   "metadata": {},
   "outputs": [
    {
     "data": {
      "text/plain": [
       "<matplotlib.collections.PathCollection at 0x75c8cda65ed0>"
      ]
     },
     "execution_count": 24,
     "metadata": {},
     "output_type": "execute_result"
    },
    {
     "data": {
      "image/png": "[encoded data removed]",
      "text/plain": [
       "<Figure size 800x400 with 2 Axes>"
      ]
     },
     "metadata": {},
     "output_type": "display_data"
    }
   ],
   "source": [
    "# plot the results\n",
    "fig, axes = plt.subplots(1, 2, figsize=(8,4), sharex=True, sharey=True)\n",
    "axes[0].scatter(e[:, 0].detach().numpy(), e[:, 1].detach().numpy(), s=5, c='blue', label='initial points')\n",
    "axes[1].scatter(xg[:, 0].detach().numpy(), xg[:, 1].detach().numpy(), s=5, c='red', label='generated points')\n"
   ]
  }
 ],
 "metadata": {
  "kernelspec": {
   "display_name": "flow-match",
   "language": "python",
   "name": "python3"
  },
  "language_info": {
   "codemirror_mode": {
    "name": "ipython",
    "version": 3
   },
   "file_extension": ".py",
   "mimetype": "text/x-python",
   "name": "python",
   "nbconvert_exporter": "python",
   "pygments_lexer": "ipython3",
   "version": "3.10.14"
  }
 },
 "nbformat": 4,
 "nbformat_minor": 5
}
